{
 "cells": [
  {
   "cell_type": "code",
   "execution_count": 1,
   "id": "6a4ac840",
   "metadata": {},
   "outputs": [],
   "source": [
    "import torchvision.transforms as transforms\n",
    "from torchvision import transforms, datasets\n",
    "from torch.utils.data import DataLoader\n",
    "from torchvision.datasets import ImageFolder\n",
    "import torch.nn as nn\n",
    "import torchvision\n",
    "import math\n",
    "import matplotlib.pyplot as plt\n",
    "import torch\n",
    "import urllib\n",
    "import numpy as np\n",
    "import PIL\n",
    "import os\n",
    "from PIL import Image\n",
    "import sys\n",
    "import logging\n",
    "import datetime\n",
    "\n",
    "# Save log\n",
    "so = open(\"data.log\", 'w', 10)\n",
    "sys.stdout.echo = so\n",
    "sys.stderr.echo = so\n",
    "get_ipython().log.handlers[0].stream = so\n",
    "get_ipython().log.setLevel(logging.INFO)"
   ]
  },
  {
   "cell_type": "code",
   "execution_count": 2,
   "id": "c18f9d56",
   "metadata": {
    "scrolled": true
   },
   "outputs": [],
   "source": [
    "os.environ[\"CUDA_VISIBLE_DEVICES\"] = \"0\"\n",
    "device = torch.device(\"cuda:0\")"
   ]
  },
  {
   "cell_type": "code",
   "execution_count": 3,
   "id": "e0d19d2e",
   "metadata": {},
   "outputs": [
    {
     "name": "stdout",
     "output_type": "stream",
     "text": [
      "Sun May 28 12:13:56 2023       \n",
      "+-----------------------------------------------------------------------------+\n",
      "| NVIDIA-SMI 525.105.17   Driver Version: 525.105.17   CUDA Version: 12.0     |\n",
      "|-------------------------------+----------------------+----------------------+\n",
      "| GPU  Name        Persistence-M| Bus-Id        Disp.A | Volatile Uncorr. ECC |\n",
      "| Fan  Temp  Perf  Pwr:Usage/Cap|         Memory-Usage | GPU-Util  Compute M. |\n",
      "|                               |                      |               MIG M. |\n",
      "|===============================+======================+======================|\n",
      "|   0  NVIDIA GeForce ...  On   | 00000000:41:00.0  On |                  N/A |\n",
      "| 36%   46C    P8    19W / 320W |   4911MiB / 10240MiB |      0%      Default |\n",
      "|                               |                      |                  N/A |\n",
      "+-------------------------------+----------------------+----------------------+\n",
      "|   1  NVIDIA GeForce ...  On   | 00000000:61:00.0 Off |                  N/A |\n",
      "| 54%   78C    P2   245W / 320W |   2196MiB / 10240MiB |     55%      Default |\n",
      "|                               |                      |                  N/A |\n",
      "+-------------------------------+----------------------+----------------------+\n",
      "                                                                               \n",
      "+-----------------------------------------------------------------------------+\n",
      "| Processes:                                                                  |\n",
      "|  GPU   GI   CI        PID   Type   Process name                  GPU Memory |\n",
      "|        ID   ID                                                   Usage      |\n",
      "|=============================================================================|\n",
      "|    0   N/A  N/A      2378      G   /usr/lib/xorg/Xorg                 59MiB |\n",
      "|    0   N/A  N/A     91840      C   /usr/bin/python3                 4848MiB |\n",
      "|    1   N/A  N/A      2378      G   /usr/lib/xorg/Xorg                  4MiB |\n",
      "|    1   N/A  N/A     73375      C   /usr/bin/python3                 2188MiB |\n",
      "+-----------------------------------------------------------------------------+\n"
     ]
    }
   ],
   "source": [
    "!nvidia-smi"
   ]
  },
  {
   "cell_type": "code",
   "execution_count": 4,
   "id": "fb3049de",
   "metadata": {},
   "outputs": [],
   "source": [
    "# plt.imshow(reverse_transform(image))\n",
    "def plot_noise_distribution(noise, predicted_noise):\n",
    "    plt.hist(noise.cpu().numpy().flatten(), density = True, alpha = 0.8, label = \"ground truth noise\")\n",
    "    plt.hist(predicted_noise.cpu().numpy().flatten(), density = True, alpha = 0.8, label = \"predicted noise\")\n",
    "    plt.legend()\n",
    "    plt.show()"
   ]
  },
  {
   "cell_type": "code",
   "execution_count": 5,
   "id": "5cafcbaf",
   "metadata": {},
   "outputs": [],
   "source": [
    "def plot_noise_prediction(noise, predicted_noise):\n",
    "    plt.figure(figsize=(15,15))\n",
    "    f, ax = plt.subplots(1, 2, figsize = (5,5))\n",
    "    ax[0].imshow(reverse_transform(noise))\n",
    "    ax[0].set_title(f\"ground truth noise\", fontsize = 10)\n",
    "    ax[1].imshow(reverse_transform(predicted_noise))\n",
    "    ax[1].set_title(f\"predicted noise\", fontsize = 10)\n",
    "    plt.show()"
   ]
  },
  {
   "cell_type": "code",
   "execution_count": 6,
   "id": "922ca5ff",
   "metadata": {},
   "outputs": [],
   "source": [
    "\"\"\"\n",
    "Define noise schedulers\n",
    "\"\"\"\n",
    "# Define Beta schedulers\n",
    "def cosine_beta_schedule(timesteps, s=0.008):\n",
    "    \"\"\"\n",
    "    cosine schedule as proposed in https://arxiv.org/abs/2102.09672\n",
    "    \"\"\"\n",
    "    steps = timesteps + 1\n",
    "    x = torch.linspace(0, timesteps, steps)\n",
    "    alphas_cumprod = torch.cos(((x / timesteps) + s) / (1 + s) * torch.pi * 0.5) ** 2\n",
    "    alphas_cumprod = alphas_cumprod / alphas_cumprod[0]\n",
    "    betas = 1 - (alphas_cumprod[1:] / alphas_cumprod[:-1])\n",
    "    return torch.clip(betas, 0.0001, 0.9999)\n",
    "\n",
    "def linear_beta_schedule(beta_start, beta_end, timesteps):\n",
    "    return torch.linspace(beta_start, beta_end, timesteps)\n",
    "\n",
    "def quadratic_beta_schedule(beta_start, beta_end, timesteps):\n",
    "    return torch.linspace(beta_start**0.5, beta_end**0.5, timesteps) ** 2\n",
    "\n",
    "def sigmoid_beta_schedule(beta_start, beta_end, timesteps):\n",
    "    betas = torch.linspace(-6, 6, timesteps)\n",
    "    return torch.sigmoid(betas) * (beta_end - beta_start) + beta_start"
   ]
  },
  {
   "cell_type": "markdown",
   "id": "6d88e515",
   "metadata": {},
   "source": [
    "### Define Diffusion Class"
   ]
  },
  {
   "cell_type": "code",
   "execution_count": 7,
   "id": "9f1a9bfc",
   "metadata": {},
   "outputs": [],
   "source": [
    "class DiffusionModel:\n",
    "    def __init__(self, start_schedule=0.0001, end_schedule=0.02, timesteps = 1000):\n",
    "        self.start_schedule = start_schedule\n",
    "        self.end_schedule = end_schedule\n",
    "        self.timesteps = timesteps\n",
    "        \n",
    "        \"\"\"\n",
    "        if \n",
    "            betas = [0.1, 0.2, 0.3, ...]\n",
    "        then\n",
    "            alphas = [0.9, 0.8, 0.7, ...]\n",
    "            alphas_cumprod = [0.9, 0.9 * 0.8, 0.9 * 0.8, * 0.7, ...]\n",
    "            \n",
    "        \n",
    "        \"\"\" \n",
    "        # define beta schedule\n",
    "        self.betas = torch.linspace(start_schedule, end_schedule, timesteps)\n",
    "#         self.betas = cosine_beta_schedule(timesteps)\n",
    "        # define alphas \n",
    "        self.alphas = 1 - self.betas\n",
    "        self.alphas_cumprod = torch.cumprod(self.alphas, axis=0)\n",
    "        \n",
    "    def forward(self, x_0, t, device):\n",
    "        \"\"\"\n",
    "        x_0: (B, C, H, W) -> [5,3,32,32]\n",
    "        t: (B,) -> (5,) , including 5 timesteps [  0,  74, 149, 224, 299])\n",
    "        \"\"\"\n",
    "        noise = torch.randn_like(x_0)\n",
    "        sqrt_alphas_cumprod_t = self.get_index_from_list(self.alphas_cumprod.sqrt(), t, x_0.shape)\n",
    "        sqrt_one_minus_alphas_cumprod_t = self.get_index_from_list(torch.sqrt(1. - self.alphas_cumprod), t, x_0.shape)\n",
    "        \n",
    "        # check q(x_t) distribution \n",
    "        mean = sqrt_alphas_cumprod_t.to(device) * x_0.to(device)\n",
    "        variance = sqrt_one_minus_alphas_cumprod_t.to(device) * noise.to(device)\n",
    "        \n",
    "        # return x_t and noise\n",
    "        return mean + variance, noise.to(device)\n",
    "    \n",
    "    @torch.no_grad()\n",
    "    # check sampling algorithm 2\n",
    "    def backward(self, x, t, model, **kwargs):\n",
    "        \"\"\"\n",
    "        Calls the model to predict the noise in the image and returns \n",
    "        the denoised image. \n",
    "        Applies noise to this image, if we are not in the last step yet.\n",
    "        \"\"\"\n",
    "        betas_t = self.get_index_from_list(self.betas, t, x.shape)\n",
    "        sqrt_one_minus_alphas_cumprod_t = self.get_index_from_list(torch.sqrt(1. - self.alphas_cumprod), t, x.shape)\n",
    "        sqrt_recip_alphas_t = self.get_index_from_list(torch.sqrt(1.0 / self.alphas), t, x.shape)\n",
    "        # predicted mean x_(t-1) using Unet\n",
    "        mean = sqrt_recip_alphas_t * (x - betas_t * model(x, t, **kwargs) / sqrt_one_minus_alphas_cumprod_t)\n",
    "        posterior_variance_t = betas_t\n",
    "          \n",
    "        if t == 0:\n",
    "            return mean\n",
    "        else:\n",
    "            noise = torch.randn_like(x)\n",
    "            variance = torch.sqrt(posterior_variance_t) * noise \n",
    "            # x_(t-1)\n",
    "            return mean + variance\n",
    "\n",
    "    @staticmethod\n",
    "    def get_index_from_list(values, t, x_shape):\n",
    "        batch_size = t.shape[0]\n",
    "        \"\"\"\n",
    "        pick the values from vals\n",
    "        according to the indices stored in `t`\n",
    "        \"\"\"\n",
    "        result = values.gather(-1, t.cpu())\n",
    "        \"\"\"\n",
    "        if \n",
    "        x_shape = (5, 3, 64, 64)\n",
    "            -> len(x_shape) = 4\n",
    "            -> len(x_shape) - 1 = 3\n",
    "            \n",
    "        and thus we reshape `out` to dims\n",
    "        (batch_size, 1, 1, 1)\n",
    "        \n",
    "        \"\"\"\n",
    "        return result.reshape(batch_size, *((1,) * (len(x_shape) - 1))).to(t.device)\n",
    "        \n",
    "        "
   ]
  },
  {
   "cell_type": "code",
   "execution_count": 8,
   "id": "9afbd565",
   "metadata": {},
   "outputs": [],
   "source": [
    "# trasfrom PIP image input to tensor input and vice verse\n",
    "# IMAGE_SHAPE = (32, 32)\n",
    "# transform = transforms.Compose([\n",
    "#     transforms.Resize(IMAGE_SHAPE), # Resize the input image\n",
    "#     transforms.ToTensor(), #CHW (PIL format) to HWC (tensor format) # Convert to torch tensor (normalize scales data into [0,1], we want to add noise to tensor, not PIL format)\n",
    "#     transforms.Lambda(lambda t: (t * 2) - 1), # shifting the pixel values from the [0,1] range to the [-1,1] range, to make mean = 0 follow normal dist \n",
    "# ])\n",
    "\n",
    "reverse_transform = transforms.Compose([\n",
    "    transforms.Lambda(lambda t: (t + 1) / 2), # shift back [-1,1] to [0,1]\n",
    "    transforms.Lambda(lambda t: t.permute(1, 2, 0)), # CHW to HWC\n",
    "    transforms.Lambda(lambda t: t * 255.), # Scale data between [0.,255.]\n",
    "    transforms.Lambda(lambda t: t.cpu().numpy().astype(np.uint8)), # Convert into an uint8 numpy array\n",
    "    transforms.ToPILImage(), # Convert to PIL image\n",
    "])\n"
   ]
  },
  {
   "cell_type": "code",
   "execution_count": 9,
   "id": "3389771d",
   "metadata": {},
   "outputs": [],
   "source": [
    "# define a instance of DiffusionModel Class\n",
    "diffusion_model = DiffusionModel()"
   ]
  },
  {
   "cell_type": "markdown",
   "id": "1ec17f0d",
   "metadata": {},
   "source": [
    "### Define position embedding"
   ]
  },
  {
   "cell_type": "code",
   "execution_count": 10,
   "id": "54c02802",
   "metadata": {},
   "outputs": [],
   "source": [
    "#This makes the neural network \"know\" at which particular time step (noise level) it is operating, \n",
    "#for every image in a batch\n",
    "class SinusoidalPositionEmbeddings(nn.Module):\n",
    "    def __init__(self, dim):\n",
    "        super().__init__()\n",
    "        # dim: dimensionality of the position embeddings\n",
    "        self.dim = dim\n",
    "\n",
    "    def forward(self, time):\n",
    "        device = time.device\n",
    "        half_dim = self.dim // 2\n",
    "        embeddings = math.log(10000) / (half_dim - 1)\n",
    "        embeddings = torch.exp(torch.arange(half_dim, device=device) * -embeddings)\n",
    "        embeddings = time[:, None] * embeddings[None, :]\n",
    "        embeddings = torch.cat((embeddings.sin(), embeddings.cos()), dim=-1)\n",
    "        return embeddings"
   ]
  },
  {
   "cell_type": "markdown",
   "id": "564f94a8",
   "metadata": {},
   "source": [
    "### Define a Block in Resnet  (no attention)"
   ]
  },
  {
   "cell_type": "code",
   "execution_count": 11,
   "id": "a47a7475",
   "metadata": {},
   "outputs": [],
   "source": [
    "# missing skip connection?\n",
    "# improve conv2d using WeightStandardizedConv2d (improved, https://arxiv.org/abs/1903.10520)\n",
    "# improve BatchNorm using PreNorm https://arxiv.org/abs/1803.08494\n",
    "\n",
    "class AttentionGate(nn.Module):\n",
    "    def __init__(self, channels):\n",
    "        super().__init__()\n",
    "        self.theta = nn.Conv2d(channels, channels // 8, 1, bias=False)\n",
    "        self.phi = nn.Conv2d(channels, channels // 8, 1, bias=False)\n",
    "        self.g = nn.Conv2d(channels, channels // 2, 1, bias=False)\n",
    "        self.out_conv = nn.Conv2d(channels // 2, channels, 1, bias=False)\n",
    "        self.softmax = nn.Softmax(dim=-1)\n",
    "        self.bn = nn.BatchNorm2d(channels // 2)\n",
    "        self.relu = nn.ReLU()\n",
    "\n",
    "    def forward(self, x):\n",
    "        batch_size, channels, height, width = x.size()\n",
    "\n",
    "        theta = self.theta(x).view(batch_size, -1, height * width)  # B, C//8, H*W\n",
    "        phi = self.phi(x).view(batch_size, -1, height * width).permute(0, 2, 1)  # B, H*W, C//8\n",
    "        g = self.g(x).view(batch_size, -1, height * width // 4)  # B, C//2, H*W/4\n",
    "\n",
    "        attn = self.softmax(torch.bmm(theta, phi))  # B, H*W, H*W\n",
    "        attn_g = torch.bmm(g, attn).view(batch_size, -1, height, width)  # B, C//2, H, W\n",
    "\n",
    "        out = self.bn(attn_g)\n",
    "        out = self.relu(out)\n",
    "        out = self.out_conv(out)\n",
    "\n",
    "        return out\n",
    "\n",
    "    \n",
    "class Block(nn.Module):\n",
    "    def __init__(self, channels_in, channels_out, time_embedding_dims, labels, num_filters = 3, downsample=True):\n",
    "        super().__init__()\n",
    "        \n",
    "        self.time_embedding_dims = time_embedding_dims\n",
    "        self.time_embedding = SinusoidalPositionEmbeddings(time_embedding_dims)\n",
    "        self.labels = labels\n",
    "        if labels:\n",
    "            self.label_mlp = nn.Linear(1, channels_out)\n",
    "        \n",
    "        self.downsample = downsample\n",
    "        \n",
    "        if downsample:\n",
    "            self.conv1 = nn.Conv2d(channels_in, channels_out, num_filters, padding=1)\n",
    "            self.final = nn.Conv2d(channels_out, channels_out, 4, 2, 1)\n",
    "        else:\n",
    "            self.conv1 = nn.Conv2d(2 * channels_in, channels_out, num_filters, padding=1)\n",
    "            self.final = nn.ConvTranspose2d(channels_out, channels_out, 4, 2, 1)\n",
    "            \n",
    "            \n",
    "        self.bnorm1 = nn.BatchNorm2d(channels_out)\n",
    "        self.bnorm2 = nn.BatchNorm2d(channels_out)\n",
    "        \n",
    "        self.conv2 = nn.Conv2d(channels_out, channels_out, 3, padding=1)\n",
    "        self.time_mlp = nn.Linear(time_embedding_dims, channels_out)\n",
    "        self.relu = nn.ReLU()\n",
    "        \n",
    "        # TODO Mark: Attention Gate implemetation\n",
    "#         self.attn = AttentionGate(channels_out)\n",
    "\n",
    "    def forward(self, x, t, **kwargs):\n",
    "        o = self.bnorm1(self.relu(self.conv1(x)))\n",
    "        o_time = self.relu(self.time_mlp(self.time_embedding(t)))\n",
    "        o = o + o_time[(..., ) + (None, ) * 2]\n",
    "        if self.labels:\n",
    "            label = kwargs.get('labels')\n",
    "            o_label = self.relu(self.label_mlp(label))\n",
    "            o = o + o_label[(..., ) + (None, ) * 2]\n",
    "            \n",
    "        o = self.bnorm2(self.relu(self.conv2(o)))\n",
    "\n",
    "        return self.final(o)"
   ]
  },
  {
   "cell_type": "markdown",
   "id": "466fb3bf",
   "metadata": {},
   "source": [
    "### Define Unet"
   ]
  },
  {
   "cell_type": "code",
   "execution_count": 13,
   "id": "1e2aeb63",
   "metadata": {},
   "outputs": [],
   "source": [
    "class UNet(nn.Module):\n",
    "    def __init__(self, img_channels = 3, time_embedding_dims = 128, labels = False, sequence_channels = (64, 128, 256, 512, 1024)):\n",
    "        super().__init__()\n",
    "        self.time_embedding_dims = time_embedding_dims\n",
    "        sequence_channels_rev = reversed(sequence_channels)\n",
    "        \n",
    "        self.downsampling = nn.ModuleList([Block(channels_in, channels_out, time_embedding_dims, labels) for channels_in, channels_out in zip(sequence_channels, sequence_channels[1:])])\n",
    "        self.upsampling = nn.ModuleList([Block(channels_in, channels_out, time_embedding_dims, labels,downsample=False) for channels_in, channels_out in zip(sequence_channels[::-1], sequence_channels[::-1][1:])])\n",
    "        self.conv1 = nn.Conv2d(img_channels, sequence_channels[0], 3, padding=1)\n",
    "        self.conv2 = nn.Conv2d(sequence_channels[0], img_channels, 1)\n",
    "\n",
    "    \n",
    "    def forward(self, x, t, **kwargs):\n",
    "        residuals = []\n",
    "        o = self.conv1(x)\n",
    "        for ds in self.downsampling:\n",
    "            o = ds(o, t, **kwargs)\n",
    "            residuals.append(o)\n",
    "        for us, res in zip(self.upsampling, reversed(residuals)):\n",
    "            o = us(torch.cat((o, res), dim=1), t, **kwargs)\n",
    "            \n",
    "        return self.conv2(o)"
   ]
  },
  {
   "cell_type": "markdown",
   "id": "f9f87df7",
   "metadata": {},
   "source": [
    "### Load dataset"
   ]
  },
  {
   "cell_type": "code",
   "execution_count": 14,
   "id": "18bad85a",
   "metadata": {},
   "outputs": [],
   "source": [
    "BATCH_SIZE = 64\n",
    "IMG_SIZE = 32\n",
    "NO_EPOCHS = 600\n",
    "PRINT_FREQUENCY = 10\n",
    "LR = 0.001\n",
    "VERBOSE = False\n",
    "\n",
    "unet = UNet(labels=True)\n",
    "unet.to(device)\n",
    "optimizer = torch.optim.Adam(unet.parameters(), lr=LR)"
   ]
  },
  {
   "cell_type": "code",
   "execution_count": 15,
   "id": "b995e1e9",
   "metadata": {},
   "outputs": [],
   "source": [
    "def custom_load_dataset(data_dir):\n",
    "    data_transforms = [\n",
    "        transforms.Resize((IMG_SIZE, IMG_SIZE)),\n",
    "        transforms.RandomHorizontalFlip(),\n",
    "        transforms.ToTensor(), # Scales data into [0,1] \n",
    "        transforms.Lambda(lambda t: (t * 2) - 1) # Scale between [-1, 1] \n",
    "    ]\n",
    "    data_transform = transforms.Compose(data_transforms)\n",
    "    # Load the images from a directory using ImageFolder\n",
    "    dataset = datasets.ImageFolder(data_dir, transform=data_transform)\n",
    "    # Extract the images and labels from the dataset\n",
    "#     images, labels = zip(*dataset)\n",
    "#     return images, labels\n",
    "    return dataset\n",
    "\n",
    "def custom_load_dataset_center(data_dir):\n",
    "    brain_transforms = [\n",
    "        # Convert to grayscale\n",
    "#         transforms.Grayscale(),\n",
    "        # Apply intensity thresholding to isolate the brain region\n",
    "        transforms.Lambda(lambda x: x.point(lambda p: p > 120 and 255)),\n",
    "        # Crop the brain region using a bounding box\n",
    "        transforms.Lambda(lambda x: x.crop(x.getbbox())),\n",
    "        # Resize the image to the desired size\n",
    "        transforms.Resize((IMG_SIZE, IMG_SIZE))\n",
    "    ]\n",
    "    # Define the standard data transforms\n",
    "    standard_transforms = [\n",
    "        transforms.RandomHorizontalFlip(),\n",
    "        transforms.ToTensor(),\n",
    "        transforms.Lambda(lambda x: (x * 2) - 1)\n",
    "    ]\n",
    "    # Combine the transforms using the Compose method\n",
    "    data_transform = transforms.Compose(brain_transforms + standard_transforms)\n",
    "    # Load the images from a directory using ImageFolder\n",
    "    dataset = datasets.ImageFolder(data_dir, transform=data_transform)\n",
    "    return dataset"
   ]
  },
  {
   "cell_type": "code",
   "execution_count": 16,
   "id": "19f14350",
   "metadata": {},
   "outputs": [],
   "source": [
    "train_data_dir = '/home/mark/Mark/DF/MRI/train'\n",
    "train_data = custom_load_dataset(train_data_dir)\n",
    "# train_data = custom_load_dataset_center(train_data_dir)\n",
    "trainloader = DataLoader(train_data, batch_size=BATCH_SIZE, shuffle=True, drop_last=True)\n",
    "\n",
    "test_data_dir = '/home/mark/Mark/DF/MRI/test'\n",
    "test_data = custom_load_dataset(test_data_dir)\n",
    "# test_data = custom_load_dataset_center(test_data_dir)\n",
    "testloader = DataLoader(test_data, batch_size=BATCH_SIZE, shuffle=True, drop_last=True)"
   ]
  },
  {
   "cell_type": "code",
   "execution_count": 18,
   "id": "d8950975",
   "metadata": {},
   "outputs": [
    {
     "data": {
      "text/plain": [
       "Dataset ImageFolder\n",
       "    Number of datapoints: 2942\n",
       "    Root location: /home/mark/Mark/DF/MRI/train\n",
       "    StandardTransform\n",
       "Transform: Compose(\n",
       "               Resize(size=(32, 32), interpolation=bilinear, max_size=None, antialias=warn)\n",
       "               RandomHorizontalFlip(p=0.5)\n",
       "               ToTensor()\n",
       "               Lambda()\n",
       "           )"
      ]
     },
     "execution_count": 18,
     "metadata": {},
     "output_type": "execute_result"
    }
   ],
   "source": [
    "train_data"
   ]
  },
  {
   "cell_type": "code",
   "execution_count": 19,
   "id": "3d66d63b",
   "metadata": {},
   "outputs": [
    {
     "data": {
      "text/plain": [
       "Dataset ImageFolder\n",
       "    Number of datapoints: 197\n",
       "    Root location: /home/mark/Mark/DF/MRI/test\n",
       "    StandardTransform\n",
       "Transform: Compose(\n",
       "               Resize(size=(32, 32), interpolation=bilinear, max_size=None, antialias=warn)\n",
       "               RandomHorizontalFlip(p=0.5)\n",
       "               ToTensor()\n",
       "               Lambda()\n",
       "           )"
      ]
     },
     "execution_count": 19,
     "metadata": {},
     "output_type": "execute_result"
    }
   ],
   "source": [
    "test_data"
   ]
  },
  {
   "cell_type": "code",
   "execution_count": 20,
   "id": "13f898e0",
   "metadata": {},
   "outputs": [
    {
     "name": "stdout",
     "output_type": "stream",
     "text": [
      "Feature batch shape: torch.Size([64, 3, 32, 32])\n",
      "Labels batch shape: torch.Size([64])\n"
     ]
    }
   ],
   "source": [
    "#TEST\n",
    "batch, label = next(iter(testloader))\n",
    "print(f\"Feature batch shape: {batch.size()}\")\n",
    "print(f\"Labels batch shape: {label.size()}\")"
   ]
  },
  {
   "cell_type": "code",
   "execution_count": 21,
   "id": "38e62b5f",
   "metadata": {},
   "outputs": [
    {
     "data": {
      "text/plain": [
       "torch.utils.data.dataloader.DataLoader"
      ]
     },
     "execution_count": 21,
     "metadata": {},
     "output_type": "execute_result"
    }
   ],
   "source": [
    "type(testloader)"
   ]
  },
  {
   "cell_type": "code",
   "execution_count": 22,
   "id": "8a2024bc",
   "metadata": {},
   "outputs": [
    {
     "data": {
      "text/plain": [
       "<matplotlib.image.AxesImage at 0x7feaeaf4fac0>"
      ]
     },
     "execution_count": 22,
     "metadata": {},
     "output_type": "execute_result"
    },
    {
     "data": {
      "image/png": "[encoded data removed]",
      "text/plain": [
       "<Figure size 432x288 with 1 Axes>"
      ]
     },
     "metadata": {
      "needs_background": "light"
     },
     "output_type": "display_data"
    }
   ],
   "source": [
    "plt.imshow(reverse_transform(batch[21]))"
   ]
  },
  {
   "cell_type": "markdown",
   "id": "e8cd5496",
   "metadata": {},
   "source": [
    "# 1. Training Diffusion Models"
   ]
  },
  {
   "cell_type": "code",
   "execution_count": 23,
   "id": "da12042e",
   "metadata": {},
   "outputs": [
    {
     "name": "stdout",
     "output_type": "stream",
     "text": [
      "---\n",
      "Epoch: 0 | Train Loss 0.30053952634334563 | Val Loss 0.1442668934663137\n",
      "---\n",
      "Epoch: 10 | Train Loss 0.03457921304636531 | Val Loss 0.0357078363498052\n",
      "---\n",
      "Epoch: 20 | Train Loss 0.030063654606540997 | Val Loss 0.025723127648234367\n",
      "---\n",
      "Epoch: 30 | Train Loss 0.025764667118589085 | Val Loss 0.028242812181512516\n",
      "---\n",
      "Epoch: 40 | Train Loss 0.024522220633096167 | Val Loss 0.022778769955039024\n",
      "---\n",
      "Epoch: 50 | Train Loss 0.026313103259437615 | Val Loss 0.02543762077887853\n",
      "---\n",
      "Epoch: 60 | Train Loss 0.023907328873044916 | Val Loss 0.02816569774101178\n",
      "---\n",
      "Epoch: 70 | Train Loss 0.024214033699697917 | Val Loss 0.028729147588213284\n",
      "---\n",
      "Epoch: 80 | Train Loss 0.023081117682158946 | Val Loss 0.02089257041613261\n",
      "---\n",
      "Epoch: 90 | Train Loss 0.022764727431866857 | Val Loss 0.02595026232302189\n",
      "---\n",
      "Epoch: 100 | Train Loss 0.020093952781624264 | Val Loss 0.01705544504026572\n",
      "---\n",
      "Epoch: 110 | Train Loss 0.022860654650462997 | Val Loss 0.020870418287813663\n",
      "---\n",
      "Epoch: 120 | Train Loss 0.019062264015277226 | Val Loss 0.013894645497202873\n",
      "---\n",
      "Epoch: 130 | Train Loss 0.01948452146930827 | Val Loss 0.019913023337721825\n",
      "---\n",
      "Epoch: 140 | Train Loss 0.017200249040292367 | Val Loss 0.015864582111438114\n",
      "---\n",
      "Epoch: 150 | Train Loss 0.01951438006427553 | Val Loss 0.01832367603977521\n",
      "---\n",
      "Epoch: 160 | Train Loss 0.018989357745481862 | Val Loss 0.01601850986480713\n",
      "---\n",
      "Epoch: 170 | Train Loss 0.015406392804450459 | Val Loss 0.017720289528369904\n",
      "---\n",
      "Epoch: 180 | Train Loss 0.01826306451112032 | Val Loss 0.016444226106007893\n",
      "---\n",
      "Epoch: 190 | Train Loss 0.014939722625745668 | Val Loss 0.024841727688908577\n",
      "---\n",
      "Epoch: 200 | Train Loss 0.015723527719577152 | Val Loss 0.01568430693199237\n",
      "---\n",
      "Epoch: 210 | Train Loss 0.016041954627467526 | Val Loss 0.0196043544759353\n",
      "---\n",
      "Epoch: 220 | Train Loss 0.016875402225802343 | Val Loss 0.01808603232105573\n",
      "---\n",
      "Epoch: 230 | Train Loss 0.015264449330667654 | Val Loss 0.0187849464515845\n",
      "---\n",
      "Epoch: 240 | Train Loss 0.01494114219935404 | Val Loss 0.01628068182617426\n",
      "---\n",
      "Epoch: 250 | Train Loss 0.014332100914584266 | Val Loss 0.016801149273912113\n",
      "---\n",
      "Epoch: 260 | Train Loss 0.016088412526167103 | Val Loss 0.019030891358852386\n",
      "---\n",
      "Epoch: 270 | Train Loss 0.014066617356406318 | Val Loss 0.014997230221827825\n",
      "---\n",
      "Epoch: 280 | Train Loss 0.013653656736844115 | Val Loss 0.014176386718948683\n",
      "---\n",
      "Epoch: 290 | Train Loss 0.01404032591316435 | Val Loss 0.013163784984499216\n",
      "---\n",
      "Epoch: 300 | Train Loss 0.013733789531721009 | Val Loss 0.015144744887948036\n",
      "---\n",
      "Epoch: 310 | Train Loss 0.013914550716678301 | Val Loss 0.012201342110832533\n",
      "---\n",
      "Epoch: 320 | Train Loss 0.013839583843946457 | Val Loss 0.012923473492264748\n",
      "---\n",
      "Epoch: 330 | Train Loss 0.013728910519017114 | Val Loss 0.013976871967315674\n",
      "---\n",
      "Epoch: 340 | Train Loss 0.012629118954969777 | Val Loss 0.011889388163884481\n",
      "---\n",
      "Epoch: 350 | Train Loss 0.012250286102708842 | Val Loss 0.013108296630283197\n",
      "---\n",
      "Epoch: 360 | Train Loss 0.013134366066919433 | Val Loss 0.013283795987566313\n",
      "---\n",
      "Epoch: 370 | Train Loss 0.012880024645063612 | Val Loss 0.009998146289338669\n",
      "---\n",
      "Epoch: 380 | Train Loss 0.012060031077514093 | Val Loss 0.0159413767978549\n",
      "---\n",
      "Epoch: 390 | Train Loss 0.013432629209839635 | Val Loss 0.013732650317251682\n",
      "---\n",
      "Epoch: 400 | Train Loss 0.013234760653641488 | Val Loss 0.014026261555651823\n",
      "---\n",
      "Epoch: 410 | Train Loss 0.013653531339433459 | Val Loss 0.011846057139337063\n",
      "---\n",
      "Epoch: 420 | Train Loss 0.01194443984164132 | Val Loss 0.011799839946130911\n",
      "---\n",
      "Epoch: 430 | Train Loss 0.012038636797418198 | Val Loss 0.01126997328052918\n",
      "---\n",
      "Epoch: 440 | Train Loss 0.011904908364845647 | Val Loss 0.010916015754143396\n",
      "---\n",
      "Epoch: 450 | Train Loss 0.012120605042825142 | Val Loss 0.013542089611291885\n",
      "---\n",
      "Epoch: 460 | Train Loss 0.012330941276417838 | Val Loss 0.012123676016926765\n",
      "---\n",
      "Epoch: 470 | Train Loss 0.011612967329306735 | Val Loss 0.0108416931082805\n",
      "---\n",
      "Epoch: 480 | Train Loss 0.011732471703241269 | Val Loss 0.009854386560618877\n",
      "---\n",
      "Epoch: 490 | Train Loss 0.0115698066747023 | Val Loss 0.011131595820188522\n",
      "---\n",
      "Epoch: 500 | Train Loss 0.011366475363158518 | Val Loss 0.011811402005453905\n",
      "---\n",
      "Epoch: 510 | Train Loss 0.012036049707482259 | Val Loss 0.010138570641477903\n",
      "---\n",
      "Epoch: 520 | Train Loss 0.012001553881499502 | Val Loss 0.008950528067847094\n",
      "---\n",
      "Epoch: 530 | Train Loss 0.010389307648357419 | Val Loss 0.011866479956855377\n",
      "---\n",
      "Epoch: 540 | Train Loss 0.011375838414662415 | Val Loss 0.01466182836641868\n",
      "---\n",
      "Epoch: 550 | Train Loss 0.012385072000324727 | Val Loss 0.012381397342930237\n",
      "---\n",
      "Epoch: 560 | Train Loss 0.01158390934061673 | Val Loss 0.013151642711212238\n",
      "---\n",
      "Epoch: 570 | Train Loss 0.01106471053014199 | Val Loss 0.012807991666098436\n",
      "---\n",
      "Epoch: 580 | Train Loss 0.011453318916675117 | Val Loss 0.011297893089552721\n",
      "---\n",
      "Epoch: 590 | Train Loss 0.009900609434892734 | Val Loss 0.011426441371440887\n"
     ]
    }
   ],
   "source": [
    "train_losses = []\n",
    "val_losses = []\n",
    "# UNET training\n",
    "for epoch in range(NO_EPOCHS):\n",
    "    mean_epoch_loss = []\n",
    "    mean_epoch_loss_val = []\n",
    "    for batch, label in trainloader:\n",
    "        # create a tensor timesteps with equaly parts in range [0, 299], T= 300\n",
    "        t = torch.randint(0, diffusion_model.timesteps, (BATCH_SIZE,)).long().to(device)\n",
    "        batch = batch.to(device)\n",
    "        batch_noisy, noise = diffusion_model.forward(batch, t, device) \n",
    "        predicted_noise = unet(batch_noisy, t, labels = label.reshape(-1,1).float().to(device))\n",
    "\n",
    "        optimizer.zero_grad()\n",
    "        \n",
    "        # Mark: Random noise\n",
    "#         noise1 = torch.randn_like(batch_noisy)\n",
    "        \n",
    "        loss = torch.nn.functional.mse_loss(noise, predicted_noise) \n",
    "#         loss = torch.nn.functional.mse_loss(noise1, predicted_noise) \n",
    "        \n",
    "        mean_epoch_loss.append(loss.item())\n",
    "        loss.backward()\n",
    "        optimizer.step()\n",
    "        \n",
    "    for batch, label in testloader:\n",
    "\n",
    "        t = torch.randint(0, diffusion_model.timesteps, (BATCH_SIZE,)).long().to(device)\n",
    "        batch = batch.to(device)\n",
    "\n",
    "        batch_noisy, noise = diffusion_model.forward(batch, t, device) \n",
    "        predicted_noise = unet(batch_noisy, t, labels = label.reshape(-1,1).float().to(device))\n",
    "        \n",
    "        # Mark: Random noise\n",
    "#         noise1 = torch.randn_like(batch_noisy)\n",
    "        \n",
    "        loss = torch.nn.functional.mse_loss(noise, predicted_noise) \n",
    "#         loss = torch.nn.functional.mse_loss(noise1, predicted_noise) \n",
    "        \n",
    "        mean_epoch_loss_val.append(loss.item())\n",
    "    \n",
    "    train_loss = np.mean(mean_epoch_loss)\n",
    "    val_loss = np.mean(mean_epoch_loss_val)\n",
    "    train_losses.append(train_loss)\n",
    "    val_losses.append(val_loss)\n",
    "    \n",
    "    if epoch % PRINT_FREQUENCY == 0:\n",
    "        print('---')\n",
    "        print(f\"Epoch: {epoch} | Train Loss {np.mean(mean_epoch_loss)} | Val Loss {np.mean(mean_epoch_loss_val)}\")\n",
    "        if VERBOSE:\n",
    "            with torch.no_grad():\n",
    "                plot_noise_prediction(noise[0], predicted_noise[0])\n",
    "                plot_noise_distribution(noise, predicted_noise)\n",
    "                \n",
    "        torch.save(unet.state_dict(), f\"model_log/epoch: {epoch}\")"
   ]
  },
  {
   "cell_type": "code",
   "execution_count": 49,
   "id": "94640857-2a8c-49e9-85fe-b0882d3c6132",
   "metadata": {
    "tags": []
   },
   "outputs": [
    {
     "data": {
      "image/png": "[encoded data removed]",
      "text/plain": [
       "<Figure size 432x288 with 1 Axes>"
      ]
     },
     "metadata": {
      "needs_background": "light"
     },
     "output_type": "display_data"
    }
   ],
   "source": [
    "plt.plot(train_losses, label='Train loss')\n",
    "plt.plot(val_losses, label='Validation loss')\n",
    "plt.xlabel('Epoch')\n",
    "plt.ylabel('Loss')\n",
    "plt.legend()\n",
    "plt.show()"
   ]
  },
  {
   "cell_type": "markdown",
   "id": "f65f5bc3",
   "metadata": {},
   "source": [
    "### If traning more epochs"
   ]
  },
  {
   "cell_type": "code",
   "execution_count": null,
   "id": "6cad5ca2",
   "metadata": {},
   "outputs": [],
   "source": [
    "# # TODO\n",
    "# NO_EPOCHS = 10\n",
    "# previous_epoch = 490\n",
    "# # Load the saved state_dict\n",
    "# unet.load_state_dict(torch.load((\"model_log/epoch: 490\")))\n",
    "\n",
    "# # Continue training for more epochs\n",
    "# for epoch in range(previous_epoch+1, NO_EPOCHS):\n",
    "#     mean_epoch_loss = []\n",
    "#     mean_epoch_loss_val = []\n",
    "#     for batch, label in trainloader:\n",
    "#         t = torch.randint(0, diffusion_model.timesteps, (BATCH_SIZE,)).long().to(device)\n",
    "#         batch = batch.to(device)\n",
    "#         batch_noisy, noise = diffusion_model.forward(batch, t, device) \n",
    "#         predicted_noise = unet(batch_noisy, t, labels = label.reshape(-1,1).float().to(device))\n",
    "\n",
    "#         optimizer.zero_grad()\n",
    "#         loss = torch.nn.functional.mse_loss(noise, predicted_noise) \n",
    "#         mean_epoch_loss.append(loss.item())\n",
    "#         loss.backward()\n",
    "#         optimizer.step()\n",
    "\n",
    "#     for batch, label in testloader:\n",
    "#         t = torch.randint(0, diffusion_model.timesteps, (BATCH_SIZE,)).long().to(device)\n",
    "#         batch = batch.to(device)\n",
    "#         batch_noisy, noise = diffusion_model.forward(batch, t, device) \n",
    "#         predicted_noise = unet(batch_noisy, t, labels = label.reshape(-1,1).float().to(device))\n",
    "#         loss = torch.nn.functional.mse_loss(noise, predicted_noise) \n",
    "#         mean_epoch_loss_val.append(loss.item())\n",
    "\n",
    "#     if epoch % PRINT_FREQUENCY == 0:\n",
    "#         print('---')\n",
    "#         print(f\"Epoch: {epoch} | Train Loss {np.mean(mean_epoch_loss)} | Val Loss {np.mean(mean_epoch_loss_val)}\")\n",
    "#         if VERBOSE:\n",
    "#             with torch.no_grad():\n",
    "#                 plot_noise_prediction(noise[0], predicted_noise[0])\n",
    "#                 plot_noise_distribution(noise, predicted_noise)\n",
    "                \n",
    "#         torch.save(unet.state_dict(), f\"epoch: {epoch}\")\n"
   ]
  },
  {
   "cell_type": "code",
   "execution_count": 30,
   "id": "3f18fabb",
   "metadata": {},
   "outputs": [
    {
     "data": {
      "text/plain": [
       "<All keys matched successfully>"
      ]
     },
     "execution_count": 30,
     "metadata": {},
     "output_type": "execute_result"
    }
   ],
   "source": [
    "unet = UNet(labels=True)\n",
    "unet.load_state_dict(torch.load((\"model_log/epoch: 430\")))"
   ]
  },
  {
   "cell_type": "code",
   "execution_count": 31,
   "id": "7cbf9028",
   "metadata": {},
   "outputs": [],
   "source": [
    "classes = ('0', '1')"
   ]
  },
  {
   "cell_type": "code",
   "execution_count": 32,
   "id": "7c48f115",
   "metadata": {},
   "outputs": [],
   "source": [
    "NUM_CLASSES = len(classes)\n",
    "NUM_DISPLAY_IMAGES = 10\n",
    "IMAGE_SHAPE = (32,32)"
   ]
  },
  {
   "cell_type": "markdown",
   "id": "3993c0ed",
   "metadata": {},
   "source": [
    "# 2. Sampling"
   ]
  },
  {
   "cell_type": "code",
   "execution_count": 33,
   "id": "21473113",
   "metadata": {},
   "outputs": [
    {
     "name": "stdout",
     "output_type": "stream",
     "text": [
      "torch.Size([10, 3, 32, 32])\n",
      "torch.Size([10, 3, 32, 32])\n"
     ]
    },
    {
     "data": {
      "text/plain": [
       "<Figure size 2304x2304 with 0 Axes>"
      ]
     },
     "metadata": {},
     "output_type": "display_data"
    },
    {
     "data": {
      "image/png": "[encoded data removed]",
      "text/plain": [
       "<Figure size 1800x1800 with 20 Axes>"
      ]
     },
     "metadata": {
      "needs_background": "light"
     },
     "output_type": "display_data"
    }
   ],
   "source": [
    "# torch.manual_seed(16)\n",
    "# Sampling\n",
    "plt.figure(figsize=(32,32))\n",
    "f, ax = plt.subplots(NUM_CLASSES, NUM_DISPLAY_IMAGES, figsize = (25,25))\n",
    "\n",
    "for c in range(NUM_CLASSES):\n",
    "    imgs = torch.randn((NUM_DISPLAY_IMAGES, 3) + IMAGE_SHAPE).to(device)\n",
    "    for i in reversed(range(diffusion_model.timesteps)):\n",
    "        t = torch.full((1,), i, dtype=torch.long, device=device)\n",
    "        labels = torch.tensor([c] * NUM_DISPLAY_IMAGES).resize(NUM_DISPLAY_IMAGES, 1).float().to(device)\n",
    "        imgs = diffusion_model.backward(x=imgs, t=t, model=unet.eval().to(device), labels = labels)\n",
    "#         save_generated_images(imgs, 'generated_images')\n",
    "    print (imgs.shape)\n",
    "    for idx, img in enumerate(imgs):\n",
    "#         print(ax[c][idx])\n",
    "        ax[c][idx].imshow(reverse_transform(img))\n",
    "#         plt.imshow(reverse_transform(img))\n",
    "        ax[c][idx].set_title(f\"Class: {classes[c]}\", fontsize = 20)\n",
    "#         print(classes[c])\n",
    "        \n",
    "# plt.show()\n",
    "plt.savefig(\"Output/without_preprocessed_600epochs_1000steps_condition_DF.svg\")"
   ]
  },
  {
   "cell_type": "code",
   "execution_count": 171,
   "id": "101fe75a",
   "metadata": {},
   "outputs": [],
   "source": [
    "# # Save generated images - TODO\n",
    "# from datetime import datetime\n",
    "# def save_generated_images(images, folder_name):\n",
    "#     current_time = datetime.now().strftime('%Y-%m-%d_%H-%M-%S')\n",
    "#     folder_path = os.path.join(folder_name, current_time)\n",
    "#     os.makedirs(folder_path, exist_ok=True)\n",
    "    \n",
    "#     for idx, img in enumerate(images):\n",
    "#         file_name = f\"generated_image_{idx}.png\"\n",
    "#         file_path = os.path.join(folder_path, file_name)\n",
    "#         img = reverse_transform(img)\n",
    "#         img.save(file_path)"
   ]
  },
  {
   "cell_type": "code",
   "execution_count": 54,
   "id": "08c8070e-2a7d-4aa1-9019-99cb71467c7d",
   "metadata": {
    "tags": []
   },
   "outputs": [
    {
     "name": "stdout",
     "output_type": "stream",
     "text": [
      "Feature batch shape: torch.Size([2900, 3, 32, 32])\n",
      "Imgs batch shape: torch.Size([2900, 3, 32, 32])\n"
     ]
    }
   ],
   "source": [
    "trainloader1 = DataLoader(train_data, batch_size=2900, shuffle=True, drop_last=True)\n",
    "batch, label = next(iter(trainloader1))\n",
    "print(f\"Feature batch shape: {batch.shape}\")\n",
    "print(f\"Imgs batch shape: {imgs.shape}\")"
   ]
  },
  {
   "cell_type": "code",
   "execution_count": 55,
   "id": "2bc7f947",
   "metadata": {},
   "outputs": [
    {
     "name": "stdout",
     "output_type": "stream",
     "text": [
      "FID: 86.99663543701172\n"
     ]
    }
   ],
   "source": [
    "# use CPU\n",
    "from torchmetrics.image.fid import FrechetInceptionDistance\n",
    "\n",
    "# fid = FrechetInceptionDistance(normalize=True, device=device)\n",
    "fid = FrechetInceptionDistance(normalize=True)\n",
    "fid.update(batch, real=True)\n",
    "fid.update(imgs.cpu(), real=False)\n",
    "print(f\"FID: {float(fid.compute())}\")\n",
    "# FID: 86.99663543701172"
   ]
  },
  {
   "cell_type": "code",
   "execution_count": null,
   "id": "cee02f98-22ee-4b22-9987-e3309246e31c",
   "metadata": {},
   "outputs": [],
   "source": []
  }
 ],
 "metadata": {
  "kernelspec": {
   "display_name": "Python 3 (ipykernel)",
   "language": "python",
   "name": "python3"
  },
  "language_info": {
   "codemirror_mode": {
    "name": "ipython",
    "version": 3
   },
   "file_extension": ".py",
   "mimetype": "text/x-python",
   "name": "python",
   "nbconvert_exporter": "python",
   "pygments_lexer": "ipython3",
   "version": "3.10.6"
  }
 },
 "nbformat": 4,
 "nbformat_minor": 5
}
