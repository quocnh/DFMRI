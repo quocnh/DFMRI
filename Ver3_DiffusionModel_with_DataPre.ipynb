{
 "cells": [
  {
   "cell_type": "code",
   "execution_count": 1,
   "id": "6a4ac840",
   "metadata": {},
   "outputs": [],
   "source": [
    "import torchvision.transforms as transforms\n",
    "from torchvision import transforms, datasets\n",
    "from torch.utils.data import DataLoader\n",
    "from torchvision.datasets import ImageFolder\n",
    "import torch.nn as nn\n",
    "import torchvision\n",
    "import math\n",
    "import matplotlib.pyplot as plt\n",
    "import torch\n",
    "import urllib\n",
    "import numpy as np\n",
    "import PIL\n",
    "import os\n",
    "from PIL import Image\n",
    "import sys\n",
    "import logging\n",
    "import datetime\n",
    "from pytorch_fid import fid_score\n",
    "\n",
    "# Save log\n",
    "so = open(\"data_ver3_label.log\", 'w', 10)\n",
    "sys.stdout.echo = so\n",
    "sys.stderr.echo = so\n",
    "get_ipython().log.handlers[0].stream = so\n",
    "get_ipython().log.setLevel(logging.INFO)"
   ]
  },
  {
   "cell_type": "code",
   "execution_count": 2,
   "id": "c18f9d56",
   "metadata": {
    "scrolled": true
   },
   "outputs": [],
   "source": [
    "os.environ[\"CUDA_DEVICE_ORDER\"] = \"PCI_BUS_ID\"\n",
    "os.environ[\"CUDA_VISIBLE_DEVICES\"] = \"1\"\n",
    "device = torch.device(\"cuda:0\")"
   ]
  },
  {
   "cell_type": "code",
   "execution_count": 3,
   "id": "951c317c-a6cc-4c19-9879-4de39c991778",
   "metadata": {
    "tags": []
   },
   "outputs": [
    {
     "name": "stdout",
     "output_type": "stream",
     "text": [
      "Mon May 29 23:02:25 2023       \n",
      "+-----------------------------------------------------------------------------+\n",
      "| NVIDIA-SMI 525.105.17   Driver Version: 525.105.17   CUDA Version: 12.0     |\n",
      "|-------------------------------+----------------------+----------------------+\n",
      "| GPU  Name        Persistence-M| Bus-Id        Disp.A | Volatile Uncorr. ECC |\n",
      "| Fan  Temp  Perf  Pwr:Usage/Cap|         Memory-Usage | GPU-Util  Compute M. |\n",
      "|                               |                      |               MIG M. |\n",
      "|===============================+======================+======================|\n",
      "|   0  NVIDIA GeForce ...  On   | 00000000:41:00.0  On |                  N/A |\n",
      "| 30%   30C    P8    25W / 320W |     61MiB / 10240MiB |      0%      Default |\n",
      "|                               |                      |                  N/A |\n",
      "+-------------------------------+----------------------+----------------------+\n",
      "|   1  NVIDIA GeForce ...  On   | 00000000:61:00.0 Off |                  N/A |\n",
      "| 30%   28C    P8    19W / 320W |      5MiB / 10240MiB |      0%      Default |\n",
      "|                               |                      |                  N/A |\n",
      "+-------------------------------+----------------------+----------------------+\n",
      "                                                                               \n",
      "+-----------------------------------------------------------------------------+\n",
      "| Processes:                                                                  |\n",
      "|  GPU   GI   CI        PID   Type   Process name                  GPU Memory |\n",
      "|        ID   ID                                                   Usage      |\n",
      "|=============================================================================|\n",
      "|    0   N/A  N/A      2389      G   /usr/lib/xorg/Xorg                 59MiB |\n",
      "|    1   N/A  N/A      2389      G   /usr/lib/xorg/Xorg                  4MiB |\n",
      "+-----------------------------------------------------------------------------+\n"
     ]
    }
   ],
   "source": [
    "!nvidia-smi"
   ]
  },
  {
   "cell_type": "code",
   "execution_count": 4,
   "id": "fb3049de",
   "metadata": {},
   "outputs": [],
   "source": [
    "# plt.imshow(reverse_transform(image))\n",
    "def plot_noise_distribution(noise, predicted_noise):\n",
    "    plt.hist(noise.cpu().numpy().flatten(), density = True, alpha = 0.8, label = \"ground truth noise\")\n",
    "    plt.hist(predicted_noise.cpu().numpy().flatten(), density = True, alpha = 0.8, label = \"predicted noise\")\n",
    "    plt.legend()\n",
    "    plt.show()"
   ]
  },
  {
   "cell_type": "code",
   "execution_count": 5,
   "id": "5cafcbaf",
   "metadata": {},
   "outputs": [],
   "source": [
    "def plot_noise_prediction(noise, predicted_noise):\n",
    "    plt.figure(figsize=(15,15))\n",
    "    f, ax = plt.subplots(1, 2, figsize = (5,5))\n",
    "    ax[0].imshow(reverse_transform(noise))\n",
    "    ax[0].set_title(f\"ground truth noise\", fontsize = 10)\n",
    "    ax[1].imshow(reverse_transform(predicted_noise))\n",
    "    ax[1].set_title(f\"predicted noise\", fontsize = 10)\n",
    "    plt.show()"
   ]
  },
  {
   "cell_type": "code",
   "execution_count": 6,
   "id": "922ca5ff",
   "metadata": {},
   "outputs": [],
   "source": [
    "\"\"\"\n",
    "Define noise schedulers\n",
    "\"\"\"\n",
    "# Define Beta schedulers\n",
    "def cosine_beta_schedule(timesteps, s=0.008):\n",
    "    \"\"\"\n",
    "    cosine schedule as proposed in https://arxiv.org/abs/2102.09672\n",
    "    \"\"\"\n",
    "    steps = timesteps + 1\n",
    "    x = torch.linspace(0, timesteps, steps)\n",
    "    alphas_cumprod = torch.cos(((x / timesteps) + s) / (1 + s) * torch.pi * 0.5) ** 2\n",
    "    alphas_cumprod = alphas_cumprod / alphas_cumprod[0]\n",
    "    betas = 1 - (alphas_cumprod[1:] / alphas_cumprod[:-1])\n",
    "    return torch.clip(betas, 0.0001, 0.9999)\n",
    "\n",
    "def linear_beta_schedule(beta_start, beta_end, timesteps):\n",
    "    return torch.linspace(beta_start, beta_end, timesteps)\n",
    "\n",
    "def quadratic_beta_schedule(beta_start, beta_end, timesteps):\n",
    "    return torch.linspace(beta_start**0.5, beta_end**0.5, timesteps) ** 2\n",
    "\n",
    "def sigmoid_beta_schedule(beta_start, beta_end, timesteps):\n",
    "    betas = torch.linspace(-6, 6, timesteps)\n",
    "    return torch.sigmoid(betas) * (beta_end - beta_start) + beta_start"
   ]
  },
  {
   "cell_type": "markdown",
   "id": "6d88e515",
   "metadata": {},
   "source": [
    "### Define Diffusion Class"
   ]
  },
  {
   "cell_type": "code",
   "execution_count": 7,
   "id": "9f1a9bfc",
   "metadata": {},
   "outputs": [],
   "source": [
    "class DiffusionModel:\n",
    "    def __init__(self, start_schedule=0.0001, end_schedule=0.04, timesteps = 1000):\n",
    "        self.start_schedule = start_schedule\n",
    "        self.end_schedule = end_schedule\n",
    "        self.timesteps = timesteps\n",
    "        \n",
    "        \"\"\"\n",
    "        if \n",
    "            betas = [0.1, 0.2, 0.3, ...]\n",
    "        then\n",
    "            alphas = [0.9, 0.8, 0.7, ...]\n",
    "            alphas_cumprod = [0.9, 0.9 * 0.8, 0.9 * 0.8, * 0.7, ...]\n",
    "            \n",
    "        \n",
    "        \"\"\" \n",
    "        # define beta schedule\n",
    "        self.betas = torch.linspace(start_schedule, end_schedule, timesteps)\n",
    "#         self.betas = cosine_beta_schedule(timesteps)\n",
    "        # define alphas \n",
    "        self.alphas = 1 - self.betas\n",
    "        self.alphas_cumprod = torch.cumprod(self.alphas, axis=0)\n",
    "        \n",
    "    def forward(self, x_0, t, device):\n",
    "        \"\"\"\n",
    "        x_0: (B, C, H, W) -> [5,3,32,32]\n",
    "        t: (B,) -> (5,) , including 5 timesteps [  0,  74, 149, 224, 299])\n",
    "        \"\"\"\n",
    "        noise = torch.randn_like(x_0)\n",
    "        sqrt_alphas_cumprod_t = self.get_index_from_list(self.alphas_cumprod.sqrt(), t, x_0.shape)\n",
    "        sqrt_one_minus_alphas_cumprod_t = self.get_index_from_list(torch.sqrt(1. - self.alphas_cumprod), t, x_0.shape)\n",
    "        \n",
    "        # check q(x_t) distribution \n",
    "        mean = sqrt_alphas_cumprod_t.to(device) * x_0.to(device)\n",
    "        variance = sqrt_one_minus_alphas_cumprod_t.to(device) * noise.to(device)\n",
    "        \n",
    "        # return x_t and noise\n",
    "        return mean + variance, noise.to(device)\n",
    "    \n",
    "    @torch.no_grad()\n",
    "    # check sampling algorithm 2\n",
    "    def backward(self, x, t, model, **kwargs):\n",
    "        \"\"\"\n",
    "        Calls the model to predict the noise in the image and returns \n",
    "        the denoised image. \n",
    "        Applies noise to this image, if we are not in the last step yet.\n",
    "        \"\"\"\n",
    "        betas_t = self.get_index_from_list(self.betas, t, x.shape)\n",
    "        sqrt_one_minus_alphas_cumprod_t = self.get_index_from_list(torch.sqrt(1. - self.alphas_cumprod), t, x.shape)\n",
    "        sqrt_recip_alphas_t = self.get_index_from_list(torch.sqrt(1.0 / self.alphas), t, x.shape)\n",
    "        # predicted mean x_(t-1) using Unet\n",
    "        mean = sqrt_recip_alphas_t * (x - betas_t * model(x, t, **kwargs) / sqrt_one_minus_alphas_cumprod_t)\n",
    "        posterior_variance_t = betas_t\n",
    "          \n",
    "        if t == 0:\n",
    "            return mean\n",
    "        else:\n",
    "            noise = torch.randn_like(x)\n",
    "            variance = torch.sqrt(posterior_variance_t) * noise \n",
    "            # x_(t-1)\n",
    "            return mean + variance\n",
    "\n",
    "    @staticmethod\n",
    "    def get_index_from_list(values, t, x_shape):\n",
    "        batch_size = t.shape[0]\n",
    "        \"\"\"\n",
    "        pick the values from vals\n",
    "        according to the indices stored in `t`\n",
    "        \"\"\"\n",
    "        result = values.gather(-1, t.cpu())\n",
    "        \"\"\"\n",
    "        if \n",
    "        x_shape = (5, 3, 64, 64)\n",
    "            -> len(x_shape) = 4\n",
    "            -> len(x_shape) - 1 = 3\n",
    "            \n",
    "        and thus we reshape `out` to dims\n",
    "        (batch_size, 1, 1, 1)\n",
    "        \n",
    "        \"\"\"\n",
    "        return result.reshape(batch_size, *((1,) * (len(x_shape) - 1))).to(t.device)\n",
    "        \n",
    "        "
   ]
  },
  {
   "cell_type": "code",
   "execution_count": 8,
   "id": "9afbd565",
   "metadata": {},
   "outputs": [],
   "source": [
    "# trasfrom PIP image input to tensor input and vice verse\n",
    "# IMAGE_SHAPE = (32, 32)\n",
    "# transform = transforms.Compose([\n",
    "#     transforms.Resize(IMAGE_SHAPE), # Resize the input image\n",
    "#     transforms.ToTensor(), #CHW (PIL format) to HWC (tensor format) # Convert to torch tensor (normalize scales data into [0,1], we want to add noise to tensor, not PIL format)\n",
    "#     transforms.Lambda(lambda t: (t * 2) - 1), # shifting the pixel values from the [0,1] range to the [-1,1] range, to make mean = 0 follow normal dist \n",
    "# ])\n",
    "\n",
    "reverse_transform = transforms.Compose([\n",
    "    transforms.Lambda(lambda t: (t + 1) / 2), # shift back [-1,1] to [0,1]\n",
    "    transforms.Lambda(lambda t: t.permute(1, 2, 0)), # CHW to HWC\n",
    "    transforms.Lambda(lambda t: t * 255.), # Scale data between [0.,255.]\n",
    "    transforms.Lambda(lambda t: t.cpu().numpy().astype(np.uint8)), # Convert into an uint8 numpy array\n",
    "    transforms.ToPILImage(), # Convert to PIL image\n",
    "])\n"
   ]
  },
  {
   "cell_type": "code",
   "execution_count": 9,
   "id": "3389771d",
   "metadata": {},
   "outputs": [],
   "source": [
    "# define a instance of DiffusionModel Class\n",
    "diffusion_model = DiffusionModel()"
   ]
  },
  {
   "cell_type": "markdown",
   "id": "1ec17f0d",
   "metadata": {},
   "source": [
    "### Define position embedding"
   ]
  },
  {
   "cell_type": "code",
   "execution_count": 10,
   "id": "54c02802",
   "metadata": {},
   "outputs": [],
   "source": [
    "#This makes the neural network \"know\" at which particular time step (noise level) it is operating, \n",
    "#for every image in a batch\n",
    "class SinusoidalPositionEmbeddings(nn.Module):\n",
    "    def __init__(self, dim):\n",
    "        super().__init__()\n",
    "        # dim: dimensionality of the position embeddings\n",
    "        self.dim = dim\n",
    "\n",
    "    def forward(self, time):\n",
    "        device = time.device\n",
    "        half_dim = self.dim // 2\n",
    "        embeddings = math.log(10000) / (half_dim - 1)\n",
    "        embeddings = torch.exp(torch.arange(half_dim, device=device) * -embeddings)\n",
    "        embeddings = time[:, None] * embeddings[None, :]\n",
    "        embeddings = torch.cat((embeddings.sin(), embeddings.cos()), dim=-1)\n",
    "        return embeddings"
   ]
  },
  {
   "cell_type": "markdown",
   "id": "564f94a8",
   "metadata": {},
   "source": [
    "### Define a Block in Resnet  (no attention)"
   ]
  },
  {
   "cell_type": "code",
   "execution_count": 11,
   "id": "a47a7475",
   "metadata": {},
   "outputs": [],
   "source": [
    "# missing skip connection?\n",
    "# improve conv2d using WeightStandardizedConv2d (improved, https://arxiv.org/abs/1903.10520)\n",
    "# improve BatchNorm using PreNorm https://arxiv.org/abs/1803.08494\n",
    "\n",
    "class AttentionGate(nn.Module):\n",
    "    def __init__(self, channels):\n",
    "        super().__init__()\n",
    "        self.theta = nn.Conv2d(channels, channels // 8, 1, bias=False)\n",
    "        self.phi = nn.Conv2d(channels, channels // 8, 1, bias=False)\n",
    "        self.g = nn.Conv2d(channels, channels // 2, 1, bias=False)\n",
    "        self.out_conv = nn.Conv2d(channels // 2, channels, 1, bias=False)\n",
    "        self.softmax = nn.Softmax(dim=-1)\n",
    "        self.bn = nn.BatchNorm2d(channels // 2)\n",
    "        self.relu = nn.ReLU()\n",
    "\n",
    "    def forward(self, x):\n",
    "        batch_size, channels, height, width = x.size()\n",
    "\n",
    "        theta = self.theta(x).view(batch_size, -1, height * width)  # B, C//8, H*W\n",
    "        phi = self.phi(x).view(batch_size, -1, height * width).permute(0, 2, 1)  # B, H*W, C//8\n",
    "        g = self.g(x).view(batch_size, -1, height * width // 4)  # B, C//2, H*W/4\n",
    "\n",
    "        attn = self.softmax(torch.bmm(theta, phi))  # B, H*W, H*W\n",
    "        attn_g = torch.bmm(g, attn).view(batch_size, -1, height, width)  # B, C//2, H, W\n",
    "\n",
    "        out = self.bn(attn_g)\n",
    "        out = self.relu(out)\n",
    "        out = self.out_conv(out)\n",
    "\n",
    "        return out\n",
    "\n",
    "    \n",
    "class Block(nn.Module):\n",
    "    def __init__(self, channels_in, channels_out, time_embedding_dims, labels, num_filters = 3, downsample=True):\n",
    "        super().__init__()\n",
    "        \n",
    "        self.time_embedding_dims = time_embedding_dims\n",
    "        self.time_embedding = SinusoidalPositionEmbeddings(time_embedding_dims)\n",
    "        self.labels = labels\n",
    "        if labels:\n",
    "            self.label_mlp = nn.Linear(1, channels_out)\n",
    "        \n",
    "        self.downsample = downsample\n",
    "        \n",
    "        if downsample:\n",
    "            self.conv1 = nn.Conv2d(channels_in, channels_out, num_filters, padding=1)\n",
    "            self.final = nn.Conv2d(channels_out, channels_out, 4, 2, 1)\n",
    "        else:\n",
    "            self.conv1 = nn.Conv2d(2 * channels_in, channels_out, num_filters, padding=1)\n",
    "            self.final = nn.ConvTranspose2d(channels_out, channels_out, 4, 2, 1)\n",
    "            \n",
    "            \n",
    "        self.bnorm1 = nn.BatchNorm2d(channels_out)\n",
    "        self.bnorm2 = nn.BatchNorm2d(channels_out)\n",
    "        \n",
    "        self.conv2 = nn.Conv2d(channels_out, channels_out, 3, padding=1)\n",
    "        self.time_mlp = nn.Linear(time_embedding_dims, channels_out)\n",
    "        self.relu = nn.ReLU()\n",
    "        \n",
    "        # TODO Mark: Attention Gate implemetation\n",
    "#         self.attn = AttentionGate(channels_out)\n",
    "\n",
    "    def forward(self, x, t, **kwargs):\n",
    "        o = self.bnorm1(self.relu(self.conv1(x)))\n",
    "        o_time = self.relu(self.time_mlp(self.time_embedding(t)))\n",
    "        o = o + o_time[(..., ) + (None, ) * 2]\n",
    "        if self.labels:\n",
    "            label = kwargs.get('labels')\n",
    "            o_label = self.relu(self.label_mlp(label))\n",
    "            o = o + o_label[(..., ) + (None, ) * 2]\n",
    "            \n",
    "        o = self.bnorm2(self.relu(self.conv2(o)))\n",
    "\n",
    "        return self.final(o)"
   ]
  },
  {
   "cell_type": "markdown",
   "id": "466fb3bf",
   "metadata": {},
   "source": [
    "### Define Unet"
   ]
  },
  {
   "cell_type": "code",
   "execution_count": 12,
   "id": "1e2aeb63",
   "metadata": {},
   "outputs": [],
   "source": [
    "class UNet(nn.Module):\n",
    "    def __init__(self, img_channels = 3, time_embedding_dims = 128, labels = False, sequence_channels = (64, 128, 256, 512, 1024)):\n",
    "        super().__init__()\n",
    "        self.time_embedding_dims = time_embedding_dims\n",
    "        sequence_channels_rev = reversed(sequence_channels)\n",
    "        \n",
    "        self.downsampling = nn.ModuleList([Block(channels_in, channels_out, time_embedding_dims, labels) for channels_in, channels_out in zip(sequence_channels, sequence_channels[1:])])\n",
    "        self.upsampling = nn.ModuleList([Block(channels_in, channels_out, time_embedding_dims, labels,downsample=False) for channels_in, channels_out in zip(sequence_channels[::-1], sequence_channels[::-1][1:])])\n",
    "        self.conv1 = nn.Conv2d(img_channels, sequence_channels[0], 3, padding=1)\n",
    "        self.conv2 = nn.Conv2d(sequence_channels[0], img_channels, 1)\n",
    "\n",
    "    \n",
    "    def forward(self, x, t, **kwargs):\n",
    "        residuals = []\n",
    "        o = self.conv1(x)\n",
    "        for ds in self.downsampling:\n",
    "            o = ds(o, t, **kwargs)\n",
    "            residuals.append(o)\n",
    "        for us, res in zip(self.upsampling, reversed(residuals)):\n",
    "            o = us(torch.cat((o, res), dim=1), t, **kwargs)\n",
    "            \n",
    "        return self.conv2(o)"
   ]
  },
  {
   "cell_type": "markdown",
   "id": "f9f87df7",
   "metadata": {},
   "source": [
    "### Load dataset"
   ]
  },
  {
   "cell_type": "code",
   "execution_count": 13,
   "id": "18bad85a",
   "metadata": {},
   "outputs": [],
   "source": [
    "BATCH_SIZE = 64\n",
    "IMG_SIZE = 32\n",
    "NO_EPOCHS = 600\n",
    "PRINT_FREQUENCY = 10\n",
    "LR = 0.001\n",
    "VERBOSE = False\n",
    "\n",
    "unet = UNet(labels=True)\n",
    "unet.to(device)\n",
    "optimizer = torch.optim.Adam(unet.parameters(), lr=LR)"
   ]
  },
  {
   "cell_type": "code",
   "execution_count": 14,
   "id": "b995e1e9",
   "metadata": {},
   "outputs": [],
   "source": [
    "def custom_load_dataset(data_dir):\n",
    "    data_transforms = [\n",
    "        transforms.Resize((IMG_SIZE, IMG_SIZE)),\n",
    "        transforms.RandomHorizontalFlip(),\n",
    "        transforms.ToTensor(), # Scales data into [0,1] \n",
    "        transforms.Lambda(lambda t: (t * 2) - 1) # Scale between [-1, 1] \n",
    "    ]\n",
    "    data_transform = transforms.Compose(data_transforms)\n",
    "    # Load the images from a directory using ImageFolder\n",
    "    dataset = datasets.ImageFolder(data_dir, transform=data_transform)\n",
    "    # Extract the images and labels from the dataset\n",
    "#     images, labels = zip(*dataset)\n",
    "#     return images, labels\n",
    "    return dataset\n",
    "\n",
    "def custom_load_dataset_center(data_dir):\n",
    "    brain_transforms = [\n",
    "        # Convert to grayscale\n",
    "#         transforms.Grayscale(),\n",
    "        # Apply intensity thresholding to isolate the brain region\n",
    "        transforms.Lambda(lambda x: x.point(lambda p: p > 120 and 255)),\n",
    "        # Crop the brain region using a bounding box\n",
    "        transforms.Lambda(lambda x: x.crop(x.getbbox())),\n",
    "        # Resize the image to the desired size\n",
    "        transforms.Resize((IMG_SIZE, IMG_SIZE))\n",
    "    ]\n",
    "    # Define the standard data transforms\n",
    "    standard_transforms = [\n",
    "        transforms.RandomHorizontalFlip(),\n",
    "        transforms.ToTensor(),\n",
    "        transforms.Lambda(lambda x: (x * 2) - 1)\n",
    "    ]\n",
    "    # Combine the transforms using the Compose method\n",
    "    data_transform = transforms.Compose(brain_transforms + standard_transforms)\n",
    "    # Load the images from a directory using ImageFolder\n",
    "    dataset = datasets.ImageFolder(data_dir, transform=data_transform)\n",
    "    return dataset"
   ]
  },
  {
   "cell_type": "code",
   "execution_count": 15,
   "id": "19f14350",
   "metadata": {},
   "outputs": [],
   "source": [
    "train_data_dir = '/home/mark/Mark/DF/MRI_PRE/train'\n",
    "train_data = custom_load_dataset(train_data_dir)\n",
    "# train_data = custom_load_dataset_center(train_data_dir)\n",
    "trainloader = DataLoader(train_data, batch_size=BATCH_SIZE, shuffle=True, drop_last=True)\n",
    "\n",
    "test_data_dir = '/home/mark/Mark/DF/MRI_PRE/test'\n",
    "test_data = custom_load_dataset(test_data_dir)\n",
    "# test_data = custom_load_dataset_center(test_data_dir)\n",
    "testloader = DataLoader(test_data, batch_size=BATCH_SIZE, shuffle=True, drop_last=True)"
   ]
  },
  {
   "cell_type": "code",
   "execution_count": 16,
   "id": "d8950975",
   "metadata": {},
   "outputs": [
    {
     "data": {
      "text/plain": [
       "Dataset ImageFolder\n",
       "    Number of datapoints: 2930\n",
       "    Root location: /home/mark/Mark/DF/MRI_PRE/train\n",
       "    StandardTransform\n",
       "Transform: Compose(\n",
       "               Resize(size=(32, 32), interpolation=bilinear, max_size=None, antialias=warn)\n",
       "               RandomHorizontalFlip(p=0.5)\n",
       "               ToTensor()\n",
       "               Lambda()\n",
       "           )"
      ]
     },
     "execution_count": 16,
     "metadata": {},
     "output_type": "execute_result"
    }
   ],
   "source": [
    "train_data"
   ]
  },
  {
   "cell_type": "code",
   "execution_count": 17,
   "id": "3d66d63b",
   "metadata": {},
   "outputs": [
    {
     "data": {
      "text/plain": [
       "Dataset ImageFolder\n",
       "    Number of datapoints: 197\n",
       "    Root location: /home/mark/Mark/DF/MRI_PRE/test\n",
       "    StandardTransform\n",
       "Transform: Compose(\n",
       "               Resize(size=(32, 32), interpolation=bilinear, max_size=None, antialias=warn)\n",
       "               RandomHorizontalFlip(p=0.5)\n",
       "               ToTensor()\n",
       "               Lambda()\n",
       "           )"
      ]
     },
     "execution_count": 17,
     "metadata": {},
     "output_type": "execute_result"
    }
   ],
   "source": [
    "test_data"
   ]
  },
  {
   "cell_type": "code",
   "execution_count": 18,
   "id": "13f898e0",
   "metadata": {},
   "outputs": [
    {
     "name": "stdout",
     "output_type": "stream",
     "text": [
      "Feature batch shape: torch.Size([64, 3, 32, 32])\n",
      "Labels batch shape: torch.Size([64])\n"
     ]
    }
   ],
   "source": [
    "#TEST\n",
    "batch, label = next(iter(testloader))\n",
    "print(f\"Feature batch shape: {batch.size()}\")\n",
    "print(f\"Labels batch shape: {label.size()}\")"
   ]
  },
  {
   "cell_type": "code",
   "execution_count": 19,
   "id": "38e62b5f",
   "metadata": {},
   "outputs": [
    {
     "data": {
      "text/plain": [
       "torch.utils.data.dataloader.DataLoader"
      ]
     },
     "execution_count": 19,
     "metadata": {},
     "output_type": "execute_result"
    }
   ],
   "source": [
    "type(testloader)"
   ]
  },
  {
   "cell_type": "code",
   "execution_count": 20,
   "id": "8a2024bc",
   "metadata": {},
   "outputs": [
    {
     "data": {
      "text/plain": [
       "<matplotlib.image.AxesImage at 0x7f337de888b0>"
      ]
     },
     "execution_count": 20,
     "metadata": {},
     "output_type": "execute_result"
    },
    {
     "data": {
      "image/png": "[encoded data removed]",
      "text/plain": [
       "<Figure size 432x288 with 1 Axes>"
      ]
     },
     "metadata": {
      "needs_background": "light"
     },
     "output_type": "display_data"
    }
   ],
   "source": [
    "plt.imshow(reverse_transform(batch[21]))"
   ]
  },
  {
   "cell_type": "markdown",
   "id": "e8cd5496",
   "metadata": {},
   "source": [
    "# 1. Training Diffusion Models"
   ]
  },
  {
   "cell_type": "code",
   "execution_count": 21,
   "id": "da12042e",
   "metadata": {},
   "outputs": [
    {
     "name": "stdout",
     "output_type": "stream",
     "text": [
      "---\n",
      "Epoch: 0 | Train Loss 0.288431671096219 | Val Loss 0.12238047023614247\n",
      "---\n",
      "Epoch: 10 | Train Loss 0.028247029210130375 | Val Loss 0.03216787055134773\n",
      "---\n",
      "Epoch: 20 | Train Loss 0.025004973738557763 | Val Loss 0.031406584506233536\n",
      "---\n",
      "Epoch: 30 | Train Loss 0.023055840449200737 | Val Loss 0.02221060295899709\n",
      "---\n",
      "Epoch: 40 | Train Loss 0.020086849998268815 | Val Loss 0.01667878155906995\n",
      "---\n",
      "Epoch: 50 | Train Loss 0.020144670870569016 | Val Loss 0.015721127080420654\n",
      "---\n",
      "Epoch: 60 | Train Loss 0.018752022046181892 | Val Loss 0.0255089004834493\n",
      "---\n",
      "Epoch: 70 | Train Loss 0.020153649006452827 | Val Loss 0.019344909427066643\n",
      "---\n",
      "Epoch: 80 | Train Loss 0.01830063091797961 | Val Loss 0.016600285346309345\n",
      "---\n",
      "Epoch: 90 | Train Loss 0.01662227881865369 | Val Loss 0.018074288964271545\n",
      "---\n",
      "Epoch: 100 | Train Loss 0.017581379413604735 | Val Loss 0.012008935523529848\n",
      "---\n",
      "Epoch: 110 | Train Loss 0.0172128450539377 | Val Loss 0.02080915744105975\n",
      "---\n",
      "Epoch: 120 | Train Loss 0.01613966152071953 | Val Loss 0.01772249924639861\n",
      "---\n",
      "Epoch: 130 | Train Loss 0.01820635147806671 | Val Loss 0.021983325170973938\n",
      "---\n",
      "Epoch: 140 | Train Loss 0.016340693696919414 | Val Loss 0.01674036029726267\n",
      "---\n",
      "Epoch: 150 | Train Loss 0.014351956535958582 | Val Loss 0.017427276199062664\n",
      "---\n",
      "Epoch: 160 | Train Loss 0.016485117603507307 | Val Loss 0.009784912690520287\n",
      "---\n",
      "Epoch: 170 | Train Loss 0.013469563041710191 | Val Loss 0.011809710102776686\n",
      "---\n",
      "Epoch: 180 | Train Loss 0.01492673685360286 | Val Loss 0.01752546119193236\n",
      "---\n",
      "Epoch: 190 | Train Loss 0.0123764015113314 | Val Loss 0.017635967582464218\n",
      "---\n",
      "Epoch: 200 | Train Loss 0.013929101928240723 | Val Loss 0.011518129458030065\n",
      "---\n",
      "Epoch: 210 | Train Loss 0.013826185485555066 | Val Loss 0.013770491816103458\n",
      "---\n",
      "Epoch: 220 | Train Loss 0.012259811400953266 | Val Loss 0.013555951726933321\n",
      "---\n",
      "Epoch: 230 | Train Loss 0.012819914095517661 | Val Loss 0.011402386551102003\n",
      "---\n",
      "Epoch: 240 | Train Loss 0.014041914645996358 | Val Loss 0.015198582783341408\n",
      "---\n",
      "Epoch: 250 | Train Loss 0.012731824991189772 | Val Loss 0.013898028681675592\n",
      "---\n",
      "Epoch: 260 | Train Loss 0.012201275531616476 | Val Loss 0.012200837954878807\n",
      "---\n",
      "Epoch: 270 | Train Loss 0.011462390712565846 | Val Loss 0.010994687676429749\n",
      "---\n",
      "Epoch: 280 | Train Loss 0.012061545625329018 | Val Loss 0.011044046220680078\n",
      "---\n",
      "Epoch: 290 | Train Loss 0.010999284053428305 | Val Loss 0.013822712004184723\n",
      "---\n",
      "Epoch: 300 | Train Loss 0.0119339717965987 | Val Loss 0.010725385198990503\n",
      "---\n",
      "Epoch: 310 | Train Loss 0.012213233723822567 | Val Loss 0.010862166372438272\n",
      "---\n",
      "Epoch: 320 | Train Loss 0.012833532815178236 | Val Loss 0.012030355321864286\n",
      "---\n",
      "Epoch: 330 | Train Loss 0.011102097781582011 | Val Loss 0.008529947139322758\n",
      "---\n",
      "Epoch: 340 | Train Loss 0.01156725183957153 | Val Loss 0.016680265155931313\n",
      "---\n",
      "Epoch: 350 | Train Loss 0.011903562345024613 | Val Loss 0.013803101455171904\n",
      "---\n",
      "Epoch: 360 | Train Loss 0.012085619434300397 | Val Loss 0.011324049284060797\n",
      "---\n",
      "Epoch: 370 | Train Loss 0.010245140890280406 | Val Loss 0.008695782783130804\n",
      "---\n",
      "Epoch: 380 | Train Loss 0.010946757304999563 | Val Loss 0.01315331319347024\n",
      "---\n",
      "Epoch: 390 | Train Loss 0.013396181342088514 | Val Loss 0.014658908204485973\n",
      "---\n",
      "Epoch: 400 | Train Loss 0.011890323335925738 | Val Loss 0.011218235983202854\n",
      "---\n",
      "Epoch: 410 | Train Loss 0.01019744048308995 | Val Loss 0.013878207032879194\n",
      "---\n",
      "Epoch: 420 | Train Loss 0.010484962134311597 | Val Loss 0.010319937020540237\n",
      "---\n",
      "Epoch: 430 | Train Loss 0.010202691538466348 | Val Loss 0.009309140034019947\n",
      "---\n",
      "Epoch: 440 | Train Loss 0.010364936488784022 | Val Loss 0.012505625685056051\n",
      "---\n",
      "Epoch: 450 | Train Loss 0.009850565085394515 | Val Loss 0.007931290039171776\n",
      "---\n",
      "Epoch: 460 | Train Loss 0.009781747756318914 | Val Loss 0.013001073772708574\n",
      "---\n",
      "Epoch: 470 | Train Loss 0.01030409573059943 | Val Loss 0.014022800760964552\n",
      "---\n",
      "Epoch: 480 | Train Loss 0.010502071047408714 | Val Loss 0.010022540731976429\n",
      "---\n",
      "Epoch: 490 | Train Loss 0.009548593974775739 | Val Loss 0.011989355397721132\n",
      "---\n",
      "Epoch: 500 | Train Loss 0.011348414224469 | Val Loss 0.009148341603577137\n",
      "---\n",
      "Epoch: 510 | Train Loss 0.009595175641071466 | Val Loss 0.012935609556734562\n",
      "---\n",
      "Epoch: 520 | Train Loss 0.009796655260854298 | Val Loss 0.008147186134010553\n",
      "---\n",
      "Epoch: 530 | Train Loss 0.009804892239885198 | Val Loss 0.012056140849987665\n",
      "---\n",
      "Epoch: 540 | Train Loss 0.010070446651015016 | Val Loss 0.008995698454479376\n",
      "---\n",
      "Epoch: 550 | Train Loss 0.010083749083181222 | Val Loss 0.012569396290928125\n",
      "---\n",
      "Epoch: 560 | Train Loss 0.011457380631731616 | Val Loss 0.011810215190052986\n",
      "---\n",
      "Epoch: 570 | Train Loss 0.010555304328186644 | Val Loss 0.006661409201721351\n",
      "---\n",
      "Epoch: 580 | Train Loss 0.00964463861245248 | Val Loss 0.00875128417586287\n",
      "---\n",
      "Epoch: 590 | Train Loss 0.008809084481456213 | Val Loss 0.010661613506575426\n"
     ]
    }
   ],
   "source": [
    "train_losses = []\n",
    "val_losses = []\n",
    "# UNET training\n",
    "for epoch in range(NO_EPOCHS):\n",
    "    mean_epoch_loss = []\n",
    "    mean_epoch_loss_val = []\n",
    "    for batch, label in trainloader:\n",
    "        # create a tensor timesteps with equaly parts in range [0, 299], T= 300\n",
    "        t = torch.randint(0, diffusion_model.timesteps, (BATCH_SIZE,)).long().to(device)\n",
    "        batch = batch.to(device)\n",
    "        batch_noisy, noise = diffusion_model.forward(batch, t, device) \n",
    "        predicted_noise = unet(batch_noisy, t, labels = label.reshape(-1,1).float().to(device))\n",
    "\n",
    "        optimizer.zero_grad()\n",
    "        \n",
    "        # Mark: Random noise\n",
    "#         noise1 = torch.randn_like(batch_noisy)\n",
    "        \n",
    "        loss = torch.nn.functional.mse_loss(noise, predicted_noise) \n",
    "#         loss = torch.nn.functional.mse_loss(noise1, predicted_noise) \n",
    "        \n",
    "        mean_epoch_loss.append(loss.item())\n",
    "        loss.backward()\n",
    "        optimizer.step()\n",
    "        \n",
    "    for batch, label in testloader:\n",
    "\n",
    "        t = torch.randint(0, diffusion_model.timesteps, (BATCH_SIZE,)).long().to(device)\n",
    "        batch = batch.to(device)\n",
    "\n",
    "        batch_noisy, noise = diffusion_model.forward(batch, t, device) \n",
    "        predicted_noise = unet(batch_noisy, t, labels = label.reshape(-1,1).float().to(device))\n",
    "        \n",
    "        # Mark: Random noise\n",
    "#         noise1 = torch.randn_like(batch_noisy)\n",
    "        \n",
    "        loss = torch.nn.functional.mse_loss(noise, predicted_noise) \n",
    "#         loss = torch.nn.functional.mse_loss(noise1, predicted_noise) \n",
    "        \n",
    "        mean_epoch_loss_val.append(loss.item())\n",
    "    \n",
    "    train_loss = np.mean(mean_epoch_loss)\n",
    "    val_loss = np.mean(mean_epoch_loss_val)\n",
    "    train_losses.append(train_loss)\n",
    "    val_losses.append(val_loss)\n",
    "    if epoch % PRINT_FREQUENCY == 0:\n",
    "        print('---')\n",
    "        print(f\"Epoch: {epoch} | Train Loss {np.mean(mean_epoch_loss)} | Val Loss {np.mean(mean_epoch_loss_val)}\")\n",
    "        if VERBOSE:\n",
    "            with torch.no_grad():\n",
    "                plot_noise_prediction(noise[0], predicted_noise[0])\n",
    "                plot_noise_distribution(noise, predicted_noise)\n",
    "                \n",
    "        torch.save(unet.state_dict(), f\"model_log1/epoch: {epoch}\")"
   ]
  },
  {
   "cell_type": "code",
   "execution_count": 22,
   "id": "94640857-2a8c-49e9-85fe-b0882d3c6132",
   "metadata": {
    "tags": []
   },
   "outputs": [
    {
     "data": {
      "image/png": "[encoded data removed]",
      "text/plain": [
       "<Figure size 432x288 with 1 Axes>"
      ]
     },
     "metadata": {
      "needs_background": "light"
     },
     "output_type": "display_data"
    },
    {
     "data": {
      "text/plain": [
       "<Figure size 432x288 with 0 Axes>"
      ]
     },
     "metadata": {},
     "output_type": "display_data"
    }
   ],
   "source": [
    "plt.plot(train_losses, label='Train loss')\n",
    "plt.plot(val_losses, label='Validation loss')\n",
    "plt.xlabel('Epoch')\n",
    "plt.ylabel('Loss')\n",
    "plt.legend()\n",
    "plt.show()\n",
    "# plt.savefig(\"Output/trainingloss_preprocessed_600epochs_1000steps_condition.svg\")"
   ]
  },
  {
   "cell_type": "code",
   "execution_count": 42,
   "id": "0700041c-548f-49ed-9b26-c6ec99c23fc2",
   "metadata": {
    "tags": []
   },
   "outputs": [
    {
     "data": {
      "image/png": "[encoded data removed]",
      "text/plain": [
       "<Figure size 432x288 with 1 Axes>"
      ]
     },
     "metadata": {
      "needs_background": "light"
     },
     "output_type": "display_data"
    }
   ],
   "source": [
    "plt.plot(train_losses, label='Train loss')\n",
    "plt.plot(val_losses, label='Validation loss')\n",
    "plt.xlabel('Epoch')\n",
    "plt.ylabel('Loss')\n",
    "plt.legend()\n",
    "# plt.savefig(\"Output/trainingloss_preprocessed_600epochs_1000steps_condition.svg\")\n",
    "plt.show()"
   ]
  },
  {
   "cell_type": "markdown",
   "id": "f65f5bc3",
   "metadata": {},
   "source": [
    "### If traning more epochs"
   ]
  },
  {
   "cell_type": "code",
   "execution_count": null,
   "id": "6cad5ca2",
   "metadata": {},
   "outputs": [],
   "source": [
    "# # TODO\n",
    "# NO_EPOCHS = 10\n",
    "# previous_epoch = 490\n",
    "# # Load the saved state_dict\n",
    "# unet.load_state_dict(torch.load((\"model_log1/epoch: 490\")))\n",
    "\n",
    "# # Continue training for more epochs\n",
    "# for epoch in range(previous_epoch+1, NO_EPOCHS):\n",
    "#     mean_epoch_loss = []\n",
    "#     mean_epoch_loss_val = []\n",
    "#     for batch, label in trainloader:\n",
    "#         t = torch.randint(0, diffusion_model.timesteps, (BATCH_SIZE,)).long().to(device)\n",
    "#         batch = batch.to(device)\n",
    "#         batch_noisy, noise = diffusion_model.forward(batch, t, device) \n",
    "#         predicted_noise = unet(batch_noisy, t, labels = label.reshape(-1,1).float().to(device))\n",
    "\n",
    "#         optimizer.zero_grad()\n",
    "#         loss = torch.nn.functional.mse_loss(noise, predicted_noise) \n",
    "#         mean_epoch_loss.append(loss.item())\n",
    "#         loss.backward()\n",
    "#         optimizer.step()\n",
    "\n",
    "#     for batch, label in testloader:\n",
    "#         t = torch.randint(0, diffusion_model.timesteps, (BATCH_SIZE,)).long().to(device)\n",
    "#         batch = batch.to(device)\n",
    "#         batch_noisy, noise = diffusion_model.forward(batch, t, device) \n",
    "#         predicted_noise = unet(batch_noisy, t, labels = label.reshape(-1,1).float().to(device))\n",
    "#         loss = torch.nn.functional.mse_loss(noise, predicted_noise) \n",
    "#         mean_epoch_loss_val.append(loss.item())\n",
    "\n",
    "#     if epoch % PRINT_FREQUENCY == 0:\n",
    "#         print('---')\n",
    "#         print(f\"Epoch: {epoch} | Train Loss {np.mean(mean_epoch_loss)} | Val Loss {np.mean(mean_epoch_loss_val)}\")\n",
    "#         if VERBOSE:\n",
    "#             with torch.no_grad():\n",
    "#                 plot_noise_prediction(noise[0], predicted_noise[0])\n",
    "#                 plot_noise_distribution(noise, predicted_noise)\n",
    "                \n",
    "#         torch.save(unet.state_dict(), f\"model_log1/epoch: {epoch}\")\n"
   ]
  },
  {
   "cell_type": "code",
   "execution_count": 22,
   "id": "3f18fabb",
   "metadata": {},
   "outputs": [
    {
     "data": {
      "text/plain": [
       "<All keys matched successfully>"
      ]
     },
     "execution_count": 22,
     "metadata": {},
     "output_type": "execute_result"
    }
   ],
   "source": [
    "unet = UNet(labels=True)\n",
    "unet.load_state_dict(torch.load((\"model_log1/epoch: 460\")))"
   ]
  },
  {
   "cell_type": "code",
   "execution_count": 23,
   "id": "7cbf9028",
   "metadata": {},
   "outputs": [],
   "source": [
    "classes = ('0', '1')"
   ]
  },
  {
   "cell_type": "code",
   "execution_count": 24,
   "id": "7c48f115",
   "metadata": {},
   "outputs": [],
   "source": [
    "NUM_CLASSES = len(classes)\n",
    "NUM_DISPLAY_IMAGES = 10\n",
    "IMAGE_SHAPE = (32,32)"
   ]
  },
  {
   "cell_type": "code",
   "execution_count": 25,
   "id": "25b79725-0fad-4d61-9c85-93770d645f59",
   "metadata": {
    "tags": []
   },
   "outputs": [],
   "source": [
    "from torch.cuda.amp import autocast, GradScaler\n",
    "# Initialize the GradScaler for mixed precision training\n",
    "scaler = GradScaler()"
   ]
  },
  {
   "cell_type": "markdown",
   "id": "3993c0ed",
   "metadata": {},
   "source": [
    "# 2. Sampling"
   ]
  },
  {
   "cell_type": "code",
   "execution_count": 26,
   "id": "21473113",
   "metadata": {},
   "outputs": [
    {
     "name": "stderr",
     "output_type": "stream",
     "text": [
      "/usr/lib/python3/dist-packages/torch/_tensor.py:775: UserWarning: non-inplace resize is deprecated\n",
      "  warnings.warn(\"non-inplace resize is deprecated\")\n"
     ]
    },
    {
     "data": {
      "text/plain": [
       "<Figure size 2304x2304 with 0 Axes>"
      ]
     },
     "metadata": {},
     "output_type": "display_data"
    },
    {
     "data": {
      "image/png": "[encoded data removed]",
      "text/plain": [
       "<Figure size 1800x1800 with 20 Axes>"
      ]
     },
     "metadata": {
      "needs_background": "light"
     },
     "output_type": "display_data"
    }
   ],
   "source": [
    "# torch.manual_seed(16)\n",
    "# Sampling\n",
    "plt.figure(figsize=(32,32))\n",
    "f, ax = plt.subplots(NUM_CLASSES, NUM_DISPLAY_IMAGES, figsize = (25,25))\n",
    "\n",
    "# fake_images = []\n",
    "\n",
    "for c in range(NUM_CLASSES):\n",
    "    imgs = torch.randn((NUM_DISPLAY_IMAGES, 3) + IMAGE_SHAPE).to(device)\n",
    "    for i in reversed(range(diffusion_model.timesteps)):\n",
    "        t = torch.full((1,), i, dtype=torch.long, device=device)\n",
    "        labels = torch.tensor([c] * NUM_DISPLAY_IMAGES).resize(NUM_DISPLAY_IMAGES, 1).float().to(device)\n",
    "        # with autocast():\n",
    "        imgs = diffusion_model.backward(x=imgs, t=t, model=unet.eval().to(device), labels = labels)\n",
    "#         save_generated_images(imgs, 'generated_images')\n",
    "        # scaler.scale(imgs)\n",
    "#     print (imgs.shape)\n",
    "    \n",
    "    for idx, img in enumerate(imgs):\n",
    "#         print(ax[c][idx])\n",
    "        ax[c][idx].imshow(reverse_transform(img))\n",
    "#         plt.imshow(reverse_transform(img))\n",
    "        ax[c][idx].set_title(f\"Class: {classes[c]}\", fontsize = 20)\n",
    "#         print(classes[c])\n",
    "        \n",
    "# plt.show()\n",
    "plt.savefig(\"Output/preprocessed_600epochs_1000steps_condition_DF.svg\")"
   ]
  },
  {
   "cell_type": "code",
   "execution_count": 40,
   "id": "addb2ef6-38f9-4db0-aac7-669020dc5a9c",
   "metadata": {
    "tags": []
   },
   "outputs": [
    {
     "data": {
      "text/plain": [
       "torch.Size([10, 3, 32, 32])"
      ]
     },
     "execution_count": 40,
     "metadata": {},
     "output_type": "execute_result"
    }
   ],
   "source": [
    "imgs.shape"
   ]
  },
  {
   "cell_type": "code",
   "execution_count": 41,
   "id": "101fe75a",
   "metadata": {},
   "outputs": [],
   "source": [
    "# Save generated images - TODO\n",
    "# from datetime import datetime\n",
    "# def save_generated_images(images, folder_name):\n",
    "#     current_time = datetime.now().strftime('%Y-%m-%d_%H-%M-%S')\n",
    "#     folder_path = os.path.join(folder_name, current_time)\n",
    "#     os.makedirs(folder_path, exist_ok=True)\n",
    "    \n",
    "#     for idx, img in enumerate(images):\n",
    "#         file_name = f\"generated_image_{idx}.png\"\n",
    "#         file_path = os.path.join(folder_path, file_name)\n",
    "#         img = reverse_transform(img)\n",
    "#         img.save(file_path)"
   ]
  },
  {
   "cell_type": "code",
   "execution_count": null,
   "id": "414c466c-0a4e-4bdf-b6fe-39a197e0ae16",
   "metadata": {
    "tags": []
   },
   "outputs": [],
   "source": []
  },
  {
   "cell_type": "code",
   "execution_count": null,
   "id": "3cddf1f8-60aa-47b8-bfef-7e50c2f9bab7",
   "metadata": {
    "tags": []
   },
   "outputs": [],
   "source": [
    "# use CPU\n",
    "from torchmetrics.image.fid import FrechetInceptionDistance\n",
    "\n",
    "trainloader1 = DataLoader(train_data, batch_size=2900, shuffle=True, drop_last=True)\n",
    "batch, label = next(iter(trainloader1))\n",
    "print(f\"Feature batch shape: {batch.shape}\")\n",
    "print(f\"Imgs batch shape: {imgs.shape}\")\n",
    "\n",
    "fid = FrechetInceptionDistance(normalize=True)\n",
    "fid.update(batch, real=True)\n",
    "fid.update(imgs.cpu(), real=False)\n",
    "print(f\"FID: {float(fid.compute())}\")\n",
    "# FID: 57.07247543334961"
   ]
  },
  {
   "cell_type": "code",
   "execution_count": null,
   "id": "4eb4c70e-f24b-416c-a4be-5c1cc28703ec",
   "metadata": {
    "tags": []
   },
   "outputs": [],
   "source": [
    "imgs.shape\n",
    "imgs1 = imgs"
   ]
  },
  {
   "cell_type": "code",
   "execution_count": null,
   "id": "63ffd270-2fe0-4bd2-80e8-f1f999dcca42",
   "metadata": {
    "tags": []
   },
   "outputs": [],
   "source": [
    "imgs1 *= 255\n",
    "\n",
    "# Clamp values between 0 and 255\n",
    "imgs1.clamp_(0, 255)\n",
    "\n",
    "# Round to nearest integer\n",
    "imgs1_uint8 = torch.round(imgs1).to(torch.uint8)\n"
   ]
  },
  {
   "cell_type": "code",
   "execution_count": 144,
   "id": "1ac006af-2acf-4b06-9817-c773d1bd54a6",
   "metadata": {},
   "outputs": [
    {
     "data": {
      "text/plain": [
       "(tensor(2.3573), tensor(0.1378))"
      ]
     },
     "execution_count": 144,
     "metadata": {},
     "output_type": "execute_result"
    }
   ],
   "source": [
    "from torchmetrics.image.inception import InceptionScore\n",
    "inception = InceptionScore()\n",
    "inception.update(imgs1_uint8.cpu())\n",
    "inception.compute()\n",
    "#(tensor(2.3573), tensor(0.1378))"
   ]
  },
  {
   "cell_type": "code",
   "execution_count": null,
   "id": "43c372b2-75ad-463c-927d-b64591c14862",
   "metadata": {},
   "outputs": [],
   "source": []
  }
 ],
 "metadata": {
  "kernelspec": {
   "display_name": "Python 3 (ipykernel)",
   "language": "python",
   "name": "python3"
  },
  "language_info": {
   "codemirror_mode": {
    "name": "ipython",
    "version": 3
   },
   "file_extension": ".py",
   "mimetype": "text/x-python",
   "name": "python",
   "nbconvert_exporter": "python",
   "pygments_lexer": "ipython3",
   "version": "3.10.6"
  }
 },
 "nbformat": 4,
 "nbformat_minor": 5
}
